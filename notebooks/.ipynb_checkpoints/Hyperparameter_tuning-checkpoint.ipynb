{
 "cells": [
  {
   "cell_type": "markdown",
   "id": "2be4f6b1-fa67-4203-8bd2-46a19d8ec084",
   "metadata": {},
   "source": [
    "# Hyperparameter Tuning"
   ]
  },
  {
   "cell_type": "code",
   "execution_count": null,
   "id": "e988d48d-773d-42b9-8c96-421ed73b089e",
   "metadata": {},
   "outputs": [],
   "source": [
    "from sklearn.model_selection import GridSearchCV\n",
    "from sklearn.svm import SVR\n",
    "from sklearn.ensemble import RandomForestRegressor\n",
    "import xgboost as xgb\n",
    "from sklearn.linear_model import LinearRegression\n",
    "from sklearn.model_selection import cross_val_score\n",
    "from sklearn.linear_model import Ridge"
   ]
  },
  {
   "cell_type": "markdown",
   "id": "6fb51739-2e77-46f1-9e62-bda67c015617",
   "metadata": {},
   "source": [
    "## Support Vector Regressor (SVR)"
   ]
  },
  {
   "cell_type": "code",
   "execution_count": null,
   "id": "8e7ffc13-90b8-46bc-bc32-7cf7da7052be",
   "metadata": {},
   "outputs": [],
   "source": [
    "param_grid_svr = {\n",
    "    'kernel': ['rbf', 'poly'],\n",
    "    'C': [0.1, 1, 10],\n",
    "    'epsilon': [0.01, 0.1, 0.5],\n",
    "    'gamma': ['scale', 'auto']\n",
    "}\n",
    "\n",
    "grid_svr = GridSearchCV(SVR(), param_grid_svr, cv=5, scoring='neg_mean_squared_error')\n",
    "grid_svr.fit(X_train, y_train)\n",
    "print(\"Best SVR Params:\", grid_svr.best_params_)"
   ]
  },
  {
   "cell_type": "markdown",
   "id": "b01f869d-a0c2-42b8-b2f0-4da2246407b8",
   "metadata": {},
   "source": [
    "## Random Forest Regressor"
   ]
  },
  {
   "cell_type": "code",
   "execution_count": null,
   "id": "31b46f3c-3cc0-4186-ab42-441fc20a9fbb",
   "metadata": {},
   "outputs": [],
   "source": [
    "param_grid_rf = {\n",
    "    'n_estimators': [100, 200],\n",
    "    'max_depth': [None, 10, 20],\n",
    "    'min_samples_split': [2, 5],\n",
    "    'min_samples_leaf': [1, 2]\n",
    "}\n",
    "\n",
    "grid_rf = GridSearchCV(RandomForestRegressor(), param_grid_rf, cv=5, scoring='neg_mean_squared_error')\n",
    "grid_rf.fit(X_train, y_train)\n",
    "print(\"Best RF Params:\", grid_rf.best_params_)"
   ]
  },
  {
   "cell_type": "markdown",
   "id": "fc3bc39c-daf5-4ae0-8cc5-4df9b69f49c9",
   "metadata": {},
   "source": [
    "## XGBoost Regressor"
   ]
  },
  {
   "cell_type": "code",
   "execution_count": null,
   "id": "85c8ef43-5296-4128-8a77-76fba30b3005",
   "metadata": {},
   "outputs": [],
   "source": [
    "param_grid_xgb = {\n",
    "    'n_estimators': [100, 200],\n",
    "    'max_depth': [3, 6, 10],\n",
    "    'learning_rate': [0.01, 0.1, 0.2],\n",
    "    'subsample': [0.7, 1.0]\n",
    "}\n",
    "\n",
    "grid_xgb = GridSearchCV(xgb.XGBRegressor(objective='reg:squarederror'), param_grid_xgb, cv=5, scoring='neg_mean_squared_error')\n",
    "grid_xgb.fit(X_train, y_train)\n",
    "print(\"Best XGB Params:\", grid_xgb.best_params_)"
   ]
  },
  {
   "cell_type": "markdown",
   "id": "00eda6e0-52bb-48b1-a486-ceb380ef437e",
   "metadata": {},
   "source": [
    "## Linear Regression"
   ]
  },
  {
   "cell_type": "code",
   "execution_count": null,
   "id": "e8c7299f-8d90-46ae-895b-5511106caa25",
   "metadata": {},
   "outputs": [],
   "source": [
    "model_lr = LinearRegression()\n",
    "scores = cross_val_score(model_lr, X_train, y_train, scoring='neg_mean_squared_error', cv=5)\n",
    "print(\"Linear Regression CV RMSE:\", (-scores.mean())**0.5)"
   ]
  },
  {
   "cell_type": "markdown",
   "id": "6408894c-b7c7-4060-bb54-a62ff06d2ccd",
   "metadata": {},
   "source": [
    "## Ridge Regression"
   ]
  },
  {
   "cell_type": "code",
   "execution_count": null,
   "id": "84a1c8ed-2e81-4b7b-8583-a6cdfcf479d3",
   "metadata": {},
   "outputs": [],
   "source": [
    "param_grid_ridge = {\n",
    "    'alpha': [0.01, 0.1, 1, 10, 100]\n",
    "}\n",
    "\n",
    "grid_ridge = GridSearchCV(Ridge(), param_grid_ridge, cv=5, scoring='neg_mean_squared_error')\n",
    "grid_ridge.fit(X_train, y_train)\n",
    "\n",
    "print(\"Best Ridge α:\", grid_ridge.best_params_['alpha'])\n",
    "print(\"Ridge Regression CV RMSE:\", (-grid_ridge.best_score_)**0.5)"
   ]
  }
 ],
 "metadata": {
  "kernelspec": {
   "display_name": "Python 3 (ipykernel)",
   "language": "python",
   "name": "python3"
  },
  "language_info": {
   "codemirror_mode": {
    "name": "ipython",
    "version": 3
   },
   "file_extension": ".py",
   "mimetype": "text/x-python",
   "name": "python",
   "nbconvert_exporter": "python",
   "pygments_lexer": "ipython3",
   "version": "3.11.7"
  }
 },
 "nbformat": 4,
 "nbformat_minor": 5
}
