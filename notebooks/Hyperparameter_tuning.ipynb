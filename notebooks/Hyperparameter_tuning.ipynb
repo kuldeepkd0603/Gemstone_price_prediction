{
  "cells": [
    {
      "cell_type": "code",
      "source": [
        "! pip install xgboost"
      ],
      "metadata": {
        "colab": {
          "base_uri": "https://localhost:8080/"
        },
        "id": "Sc0INCtJKHq_",
        "outputId": "cb6fc631-729c-4d01-e4a3-cfaeea967589"
      },
      "id": "Sc0INCtJKHq_",
      "execution_count": 2,
      "outputs": [
        {
          "output_type": "stream",
          "name": "stdout",
          "text": [
            "Collecting xgboost\n",
            "  Downloading xgboost-3.0.0-py3-none-manylinux_2_28_x86_64.whl.metadata (2.1 kB)\n",
            "Requirement already satisfied: numpy in /usr/local/lib/python3.11/dist-packages (from xgboost) (2.0.2)\n",
            "Collecting nvidia-nccl-cu12 (from xgboost)\n",
            "  Downloading nvidia_nccl_cu12-2.26.5-py3-none-manylinux2014_x86_64.manylinux_2_17_x86_64.whl.metadata (2.0 kB)\n",
            "Requirement already satisfied: scipy in /usr/local/lib/python3.11/dist-packages (from xgboost) (1.15.2)\n",
            "Downloading xgboost-3.0.0-py3-none-manylinux_2_28_x86_64.whl (253.9 MB)\n",
            "\u001b[2K   \u001b[90m━━━━━━━━━━━━━━━━━━━━━━━━━━━━━━━━━━━━━━━━\u001b[0m \u001b[32m253.9/253.9 MB\u001b[0m \u001b[31m4.1 MB/s\u001b[0m eta \u001b[36m0:00:00\u001b[0m\n",
            "\u001b[?25hDownloading nvidia_nccl_cu12-2.26.5-py3-none-manylinux2014_x86_64.manylinux_2_17_x86_64.whl (318.1 MB)\n",
            "\u001b[2K   \u001b[90m━━━━━━━━━━━━━━━━━━━━━━━━━━━━━━━━━━━━━━━━\u001b[0m \u001b[32m318.1/318.1 MB\u001b[0m \u001b[31m3.4 MB/s\u001b[0m eta \u001b[36m0:00:00\u001b[0m\n",
            "\u001b[?25hInstalling collected packages: nvidia-nccl-cu12, xgboost\n",
            "Successfully installed nvidia-nccl-cu12-2.26.5 xgboost-3.0.0\n"
          ]
        }
      ]
    },
    {
      "cell_type": "markdown",
      "id": "2be4f6b1-fa67-4203-8bd2-46a19d8ec084",
      "metadata": {
        "id": "2be4f6b1-fa67-4203-8bd2-46a19d8ec084"
      },
      "source": [
        "# Hyperparameter Tuning"
      ]
    },
    {
      "cell_type": "code",
      "execution_count": 3,
      "id": "e988d48d-773d-42b9-8c96-421ed73b089e",
      "metadata": {
        "id": "e988d48d-773d-42b9-8c96-421ed73b089e"
      },
      "outputs": [],
      "source": [
        "from sklearn.model_selection import GridSearchCV\n",
        "from sklearn.svm import SVR\n",
        "from sklearn.ensemble import RandomForestRegressor\n",
        "import xgboost as xgb\n",
        "from sklearn.linear_model import LinearRegression\n",
        "from sklearn.model_selection import cross_val_score\n",
        "from sklearn.linear_model import Ridge\n",
        "import joblib\n",
        "from sklearn.model_selection import train_test_split\n",
        "import pandas as pd"
      ]
    },
    {
      "cell_type": "code",
      "execution_count": 4,
      "id": "r3YfLTZbn-8g",
      "metadata": {
        "id": "r3YfLTZbn-8g"
      },
      "outputs": [],
      "source": [
        "unscaled_data = pd.read_csv('/content/unscaled_processed_data.csv')\n",
        "X_train_scaled, X_test_scaled, y_train_scaled, y_test_scaled=joblib.load(\"/content/sacled_train_test_split.pkl\")"
      ]
    },
    {
      "cell_type": "code",
      "execution_count": 5,
      "id": "6S0980gEn_0E",
      "metadata": {
        "id": "6S0980gEn_0E"
      },
      "outputs": [],
      "source": [
        "X_unscaled = unscaled_data.drop(columns='price')\n",
        "y_unscaled = unscaled_data['price']"
      ]
    },
    {
      "cell_type": "code",
      "execution_count": 6,
      "id": "8kXCRj0KoK_N",
      "metadata": {
        "id": "8kXCRj0KoK_N"
      },
      "outputs": [],
      "source": [
        "X_train_unscaled, X_test_unscaled, y_train_unscaled, y_test_unscaled = train_test_split(X_unscaled, y_unscaled, test_size=0.2, random_state=42)"
      ]
    },
    {
      "cell_type": "markdown",
      "id": "6fb51739-2e77-46f1-9e62-bda67c015617",
      "metadata": {
        "id": "6fb51739-2e77-46f1-9e62-bda67c015617"
      },
      "source": [
        "## Support Vector Regressor (SVR)"
      ]
    },
    {
      "cell_type": "code",
      "execution_count": null,
      "id": "8e7ffc13-90b8-46bc-bc32-7cf7da7052be",
      "metadata": {
        "id": "8e7ffc13-90b8-46bc-bc32-7cf7da7052be"
      },
      "outputs": [],
      "source": [
        "param_grid_svr = {\n",
        "    'kernel': ['rbf', 'poly'],\n",
        "    'C': [0.1, 1, 10],\n",
        "    'epsilon': [0.01, 0.1, 0.5],\n",
        "    'gamma': ['scale', 'auto']\n",
        "}\n",
        "\n",
        "grid_svr = GridSearchCV(SVR(), param_grid_svr, cv=5, scoring='neg_mean_squared_error')\n",
        "grid_svr.fit(X_train_scaled, y_train_scaled)\n",
        "print(\"Best SVR Params:\", grid_svr.best_params_)"
      ]
    },
    {
      "cell_type": "code",
      "source": [],
      "metadata": {
        "id": "9hcWtCTcKGDm"
      },
      "id": "9hcWtCTcKGDm",
      "execution_count": null,
      "outputs": []
    },
    {
      "cell_type": "markdown",
      "id": "b01f869d-a0c2-42b8-b2f0-4da2246407b8",
      "metadata": {
        "id": "b01f869d-a0c2-42b8-b2f0-4da2246407b8"
      },
      "source": [
        "## Random Forest Regressor"
      ]
    },
    {
      "cell_type": "code",
      "execution_count": null,
      "id": "31b46f3c-3cc0-4186-ab42-441fc20a9fbb",
      "metadata": {
        "colab": {
          "background_save": true
        },
        "id": "31b46f3c-3cc0-4186-ab42-441fc20a9fbb",
        "outputId": "7831bd80-9df9-46ed-e3f3-799c1c87df43"
      },
      "outputs": [
        {
          "name": "stdout",
          "output_type": "stream",
          "text": [
            "Best RF Params: {'max_depth': 20, 'min_samples_leaf': 1, 'min_samples_split': 5, 'n_estimators': 100}\n"
          ]
        }
      ],
      "source": [
        "param_grid_rf = {\n",
        "    'n_estimators': [100, 200],\n",
        "    'max_depth': [None, 10, 20],\n",
        "    'min_samples_split': [2, 5],\n",
        "    'min_samples_leaf': [1, 2]\n",
        "}\n",
        "\n",
        "grid_rf = GridSearchCV(RandomForestRegressor(), param_grid_rf, cv=5, scoring='neg_mean_squared_error')\n",
        "grid_rf.fit(X_train_unscaled, y_train_unscaled)\n",
        "print(\"Best RF Params:\", grid_rf.best_params_)"
      ]
    },
    {
      "cell_type": "markdown",
      "id": "fc3bc39c-daf5-4ae0-8cc5-4df9b69f49c9",
      "metadata": {
        "id": "fc3bc39c-daf5-4ae0-8cc5-4df9b69f49c9"
      },
      "source": [
        "## XGBoost Regressor"
      ]
    },
    {
      "cell_type": "code",
      "execution_count": null,
      "id": "85c8ef43-5296-4128-8a77-76fba30b3005",
      "metadata": {
        "colab": {
          "background_save": true
        },
        "id": "85c8ef43-5296-4128-8a77-76fba30b3005",
        "outputId": "1f1a59b1-37c8-43e5-c87b-1337db5c8db2"
      },
      "outputs": [
        {
          "name": "stdout",
          "output_type": "stream",
          "text": [
            "Best XGB Params: {'learning_rate': 0.1, 'max_depth': 6, 'n_estimators': 100, 'subsample': 1.0}\n"
          ]
        }
      ],
      "source": [
        "param_grid_xgb = {\n",
        "    'n_estimators': [100, 200],\n",
        "    'max_depth': [3, 6, 10],\n",
        "    'learning_rate': [0.01, 0.1, 0.2],\n",
        "    'subsample': [0.7, 1.0]\n",
        "}\n",
        "\n",
        "grid_xgb = GridSearchCV(xgb.XGBRegressor(objective='reg:squarederror'), param_grid_xgb, cv=5, scoring='neg_mean_squared_error')\n",
        "grid_xgb.fit(X_train_unscaled, y_train_unscaled)\n",
        "print(\"Best XGB Params:\", grid_xgb.best_params_)"
      ]
    },
    {
      "cell_type": "markdown",
      "id": "00eda6e0-52bb-48b1-a486-ceb380ef437e",
      "metadata": {
        "id": "00eda6e0-52bb-48b1-a486-ceb380ef437e"
      },
      "source": [
        "## Linear Regression"
      ]
    },
    {
      "cell_type": "code",
      "execution_count": null,
      "id": "e8c7299f-8d90-46ae-895b-5511106caa25",
      "metadata": {
        "colab": {
          "background_save": true
        },
        "id": "e8c7299f-8d90-46ae-895b-5511106caa25",
        "outputId": "93c59841-af6b-4e0e-9d04-5f5294671559"
      },
      "outputs": [
        {
          "name": "stdout",
          "output_type": "stream",
          "text": [
            "Linear Regression CV RMSE: 0.1462767119159479\n"
          ]
        }
      ],
      "source": [
        "model_lr = LinearRegression()\n",
        "scores = cross_val_score(model_lr, X_train_scaled, y_train_scaled, scoring='neg_mean_squared_error', cv=5)\n",
        "print(\"Linear Regression CV RMSE:\", (-scores.mean())**0.5)"
      ]
    },
    {
      "cell_type": "markdown",
      "id": "6408894c-b7c7-4060-bb54-a62ff06d2ccd",
      "metadata": {
        "id": "6408894c-b7c7-4060-bb54-a62ff06d2ccd"
      },
      "source": [
        "## Ridge Regression"
      ]
    },
    {
      "cell_type": "code",
      "execution_count": null,
      "id": "84a1c8ed-2e81-4b7b-8583-a6cdfcf479d3",
      "metadata": {
        "colab": {
          "background_save": true
        },
        "id": "84a1c8ed-2e81-4b7b-8583-a6cdfcf479d3",
        "outputId": "55a1eb68-89e1-408c-9b22-bc0b7e837dfe"
      },
      "outputs": [
        {
          "name": "stdout",
          "output_type": "stream",
          "text": [
            "Best Ridge α: 0.01\n",
            "Ridge Regression CV RMSE: 0.14627671201186718\n"
          ]
        }
      ],
      "source": [
        "param_grid_ridge = {\n",
        "    'alpha': [0.01, 0.1, 1, 10, 100]\n",
        "}\n",
        "\n",
        "grid_ridge = GridSearchCV(Ridge(), param_grid_ridge, cv=5, scoring='neg_mean_squared_error')\n",
        "grid_ridge.fit(X_train_scaled, y_train_scaled)\n",
        "\n",
        "print(\"Best Ridge α:\", grid_ridge.best_params_['alpha'])\n",
        "print(\"Ridge Regression CV RMSE:\", (-grid_ridge.best_score_)**0.5)"
      ]
    },
    {
      "cell_type": "code",
      "execution_count": null,
      "id": "7FHYQ3HSpAIB",
      "metadata": {
        "id": "7FHYQ3HSpAIB"
      },
      "outputs": [],
      "source": []
    }
  ],
  "metadata": {
    "accelerator": "TPU",
    "colab": {
      "gpuType": "V28",
      "provenance": []
    },
    "kernelspec": {
      "display_name": "Python 3",
      "name": "python3"
    },
    "language_info": {
      "codemirror_mode": {
        "name": "ipython",
        "version": 3
      },
      "file_extension": ".py",
      "mimetype": "text/x-python",
      "name": "python",
      "nbconvert_exporter": "python",
      "pygments_lexer": "ipython3",
      "version": "3.11.7"
    }
  },
  "nbformat": 4,
  "nbformat_minor": 5
}