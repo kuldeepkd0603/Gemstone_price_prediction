{
  "cells": [
    {
      "cell_type": "code",
      "execution_count": null,
      "id": "ZF-771L5eGdv",
      "metadata": {
        "colab": {
          "base_uri": "https://localhost:8080/"
        },
        "id": "ZF-771L5eGdv",
        "outputId": "f7490ba0-39c7-4e98-9c4d-ecc608aee518"
      },
      "outputs": [
        {
          "name": "stdout",
          "output_type": "stream",
          "text": [
            "Requirement already satisfied: catboost in /usr/local/lib/python3.11/dist-packages (1.2.8)\n",
            "Requirement already satisfied: graphviz in /usr/local/lib/python3.11/dist-packages (from catboost) (0.20.3)\n",
            "Requirement already satisfied: matplotlib in /usr/local/lib/python3.11/dist-packages (from catboost) (3.10.0)\n",
            "Requirement already satisfied: numpy<3.0,>=1.16.0 in /usr/local/lib/python3.11/dist-packages (from catboost) (2.0.2)\n",
            "Requirement already satisfied: pandas>=0.24 in /usr/local/lib/python3.11/dist-packages (from catboost) (2.2.2)\n",
            "Requirement already satisfied: scipy in /usr/local/lib/python3.11/dist-packages (from catboost) (1.15.2)\n",
            "Requirement already satisfied: plotly in /usr/local/lib/python3.11/dist-packages (from catboost) (5.24.1)\n",
            "Requirement already satisfied: six in /usr/local/lib/python3.11/dist-packages (from catboost) (1.17.0)\n",
            "Requirement already satisfied: python-dateutil>=2.8.2 in /usr/local/lib/python3.11/dist-packages (from pandas>=0.24->catboost) (2.9.0.post0)\n",
            "Requirement already satisfied: pytz>=2020.1 in /usr/local/lib/python3.11/dist-packages (from pandas>=0.24->catboost) (2025.2)\n",
            "Requirement already satisfied: tzdata>=2022.7 in /usr/local/lib/python3.11/dist-packages (from pandas>=0.24->catboost) (2025.2)\n",
            "Requirement already satisfied: contourpy>=1.0.1 in /usr/local/lib/python3.11/dist-packages (from matplotlib->catboost) (1.3.2)\n",
            "Requirement already satisfied: cycler>=0.10 in /usr/local/lib/python3.11/dist-packages (from matplotlib->catboost) (0.12.1)\n",
            "Requirement already satisfied: fonttools>=4.22.0 in /usr/local/lib/python3.11/dist-packages (from matplotlib->catboost) (4.57.0)\n",
            "Requirement already satisfied: kiwisolver>=1.3.1 in /usr/local/lib/python3.11/dist-packages (from matplotlib->catboost) (1.4.8)\n",
            "Requirement already satisfied: packaging>=20.0 in /usr/local/lib/python3.11/dist-packages (from matplotlib->catboost) (24.2)\n",
            "Requirement already satisfied: pillow>=8 in /usr/local/lib/python3.11/dist-packages (from matplotlib->catboost) (11.2.1)\n",
            "Requirement already satisfied: pyparsing>=2.3.1 in /usr/local/lib/python3.11/dist-packages (from matplotlib->catboost) (3.2.3)\n",
            "Requirement already satisfied: tenacity>=6.2.0 in /usr/local/lib/python3.11/dist-packages (from plotly->catboost) (9.1.2)\n"
          ]
        }
      ],
      "source": [
        "! pip install catboost"
      ]
    },
    {
      "cell_type": "code",
      "execution_count": null,
      "id": "8507b6da-f006-4725-b9ff-2bf4802fda9a",
      "metadata": {
        "id": "8507b6da-f006-4725-b9ff-2bf4802fda9a"
      },
      "outputs": [],
      "source": [
        "from sklearn.linear_model import (\n",
        "    LinearRegression, Ridge, Lasso, ElasticNet, HuberRegressor, SGDRegressor, PassiveAggressiveRegressor\n",
        ")\n",
        "from sklearn.tree import DecisionTreeRegressor\n",
        "from sklearn.ensemble import (\n",
        "    RandomForestRegressor, GradientBoostingRegressor, AdaBoostRegressor, ExtraTreesRegressor, BaggingRegressor\n",
        ")\n",
        "from sklearn.neighbors import KNeighborsRegressor\n",
        "from sklearn.svm import SVR\n",
        "from xgboost import XGBRegressor\n",
        "from lightgbm import LGBMRegressor\n",
        "from catboost import CatBoostRegressor\n",
        "from sklearn.gaussian_process import GaussianProcessRegressor\n",
        "from sklearn.neural_network import MLPRegressor\n",
        "import joblib\n",
        "from sklearn.model_selection import train_test_split\n",
        "import pandas as pd\n",
        "from sklearn.metrics import mean_squared_error, r2_score, mean_absolute_error\n"
      ]
    },
    {
      "cell_type": "code",
      "execution_count": null,
      "id": "04835728-b4c4-4ef4-bff8-7d1b07e00d21",
      "metadata": {
        "id": "04835728-b4c4-4ef4-bff8-7d1b07e00d21"
      },
      "outputs": [],
      "source": [
        "unscaled_data = pd.read_csv('/content/unscaled_processed_data.csv')\n",
        "X_train_scaled, X_test_scaled, y_train_scaled, y_test_scaled=joblib.load(\"/content/sacled_train_test_split.pkl\")"
      ]
    },
    {
      "cell_type": "code",
      "execution_count": null,
      "id": "55b72647-4456-4546-9e6c-2fd8fee0da0f",
      "metadata": {
        "id": "55b72647-4456-4546-9e6c-2fd8fee0da0f"
      },
      "outputs": [],
      "source": [
        "X_unscaled = unscaled_data.drop(columns='price')\n",
        "y_unscaled = unscaled_data['price']"
      ]
    },
    {
      "cell_type": "code",
      "execution_count": null,
      "id": "08ace8bb-24d7-4874-99ea-aca0e9b90942",
      "metadata": {
        "id": "08ace8bb-24d7-4874-99ea-aca0e9b90942"
      },
      "outputs": [],
      "source": [
        "X_train_unscaled, X_test_unscaled, y_train_unscaled, y_test_unscaled = train_test_split(X_unscaled, y_unscaled, test_size=0.2, random_state=42)"
      ]
    },
    {
      "cell_type": "markdown",
      "id": "4f5d8d2f-77a9-449e-be35-beb20f94a962",
      "metadata": {
        "id": "4f5d8d2f-77a9-449e-be35-beb20f94a962"
      },
      "source": [
        "# models"
      ]
    },
    {
      "cell_type": "code",
      "execution_count": 30,
      "id": "52611db9-d1f1-4898-b7d4-edf6ce090a34",
      "metadata": {
        "id": "52611db9-d1f1-4898-b7d4-edf6ce090a34"
      },
      "outputs": [],
      "source": [
        "scaled_models = {\n",
        "    \"Linear Regression\": LinearRegression(),\n",
        "    \"Ridge Regression\": Ridge(),\n",
        "    \"Lasso Regression\": Lasso(),\n",
        "    \"ElasticNet Regression\": ElasticNet(),\n",
        "    \"KNN Regressor\": KNeighborsRegressor(),\n",
        "    \"SVR\": SVR()\n",
        "}\n"
      ]
    },
    {
      "cell_type": "code",
      "execution_count": 31,
      "id": "45eb80e2-b304-44d4-b92b-0bb62392c47f",
      "metadata": {
        "id": "45eb80e2-b304-44d4-b92b-0bb62392c47f"
      },
      "outputs": [],
      "source": [
        "unscaled_models = {\n",
        "    \"Decision Tree\": DecisionTreeRegressor(),\n",
        "    \"Random Forest\": RandomForestRegressor(),\n",
        "    \"Gradient Boosting\": GradientBoostingRegressor(),\n",
        "    \"AdaBoost\": AdaBoostRegressor(),\n",
        "    \"Bagging Regressor\": BaggingRegressor(),\n",
        "    \"XGBoost\": XGBRegressor()\n",
        "}\n"
      ]
    },
    {
      "cell_type": "code",
      "execution_count": 32,
      "id": "745d424f-f3a7-4b07-8932-00260697efb9",
      "metadata": {
        "id": "745d424f-f3a7-4b07-8932-00260697efb9"
      },
      "outputs": [],
      "source": [
        "results = []"
      ]
    },
    {
      "cell_type": "code",
      "execution_count": 33,
      "id": "35dd2514-bbcf-46e9-b598-d5694db8b49b",
      "metadata": {
        "id": "35dd2514-bbcf-46e9-b598-d5694db8b49b"
      },
      "outputs": [],
      "source": [
        "for model_name, model in scaled_models.items():\n",
        "    model.fit(X_train_scaled, y_train_scaled)\n",
        "    y_pred = model.predict(X_test_scaled)\n",
        "\n",
        "    rmse = mean_squared_error(y_test_scaled, y_pred)\n",
        "    r2 = r2_score(y_test_scaled, y_pred)\n",
        "    mae = mean_absolute_error(y_test_scaled, y_pred)\n",
        "\n",
        "\n",
        "    results.append({'Model': model_name, 'RMSE': rmse, 'R^2': r2, 'MAE': mae})\n"
      ]
    },
    {
      "cell_type": "code",
      "execution_count": 34,
      "id": "6fbc9746-aac7-4e04-927f-0174ff559722",
      "metadata": {
        "id": "6fbc9746-aac7-4e04-927f-0174ff559722"
      },
      "outputs": [],
      "source": [
        "for model_name, model in unscaled_models.items():\n",
        "    model.fit(X_train_unscaled, y_train_unscaled)\n",
        "    y_pred = model.predict(X_test_unscaled)\n",
        "\n",
        "    rmse = mean_squared_error(y_test_unscaled, y_pred)\n",
        "    r2 = r2_score(y_test_unscaled, y_pred)\n",
        "    mae = mean_absolute_error(y_test_unscaled, y_pred)\n",
        "\n",
        "    results.append({'Model': model_name, 'RMSE': rmse, 'R^2': r2, 'MAE': mae})\n"
      ]
    },
    {
      "cell_type": "code",
      "execution_count": 35,
      "id": "03c55ba2-2113-4906-a2a7-d68e61eba060",
      "metadata": {
        "id": "03c55ba2-2113-4906-a2a7-d68e61eba060"
      },
      "outputs": [],
      "source": [
        "performance_df = pd.DataFrame(results)"
      ]
    },
    {
      "cell_type": "code",
      "execution_count": 36,
      "id": "9295399a-5e02-4e44-9a10-a2e109de5ab3",
      "metadata": {
        "colab": {
          "base_uri": "https://localhost:8080/"
        },
        "id": "9295399a-5e02-4e44-9a10-a2e109de5ab3",
        "outputId": "5fdc2518-38a8-48be-d2dd-7a91c521dda4"
      },
      "outputs": [
        {
          "output_type": "stream",
          "name": "stdout",
          "text": [
            "                    Model          RMSE       R^2         MAE\n",
            "0       Linear Regression  2.037055e-02  0.980573    0.112211\n",
            "1        Ridge Regression  2.037078e-02  0.980573    0.112216\n",
            "2        Lasso Regression  1.048901e+00 -0.000292    0.887064\n",
            "3   ElasticNet Regression  5.142507e-01  0.509581    0.613561\n",
            "4           KNN Regressor  3.502805e-02  0.966595    0.141613\n",
            "5                     SVR  1.259423e-02  0.987989    0.087444\n",
            "6           Decision Tree  6.043915e+05  0.963940  395.609285\n",
            "7           Random Forest  3.177971e+05  0.981039  296.150605\n",
            "8       Gradient Boosting  3.819329e+05  0.977213  346.029614\n",
            "9                AdaBoost  1.319463e+06  0.921277  848.910321\n",
            "10      Bagging Regressor  3.448466e+05  0.979425  310.133779\n",
            "11                XGBoost  3.266887e+05  0.980509  294.112823\n"
          ]
        }
      ],
      "source": [
        "print(performance_df)"
      ]
    },
    {
      "cell_type": "code",
      "source": [
        "performance_df.to_csv('performance_df.csv')"
      ],
      "metadata": {
        "id": "J4-AazAPid-N"
      },
      "id": "J4-AazAPid-N",
      "execution_count": 37,
      "outputs": []
    },
    {
      "cell_type": "code",
      "source": [],
      "metadata": {
        "id": "bEPI8btQinXW"
      },
      "id": "bEPI8btQinXW",
      "execution_count": null,
      "outputs": []
    }
  ],
  "metadata": {
    "accelerator": "GPU",
    "colab": {
      "gpuType": "T4",
      "provenance": []
    },
    "kernelspec": {
      "display_name": "Python 3",
      "name": "python3"
    },
    "language_info": {
      "codemirror_mode": {
        "name": "ipython",
        "version": 3
      },
      "file_extension": ".py",
      "mimetype": "text/x-python",
      "name": "python",
      "nbconvert_exporter": "python",
      "pygments_lexer": "ipython3",
      "version": "3.11.7"
    }
  },
  "nbformat": 4,
  "nbformat_minor": 5
}