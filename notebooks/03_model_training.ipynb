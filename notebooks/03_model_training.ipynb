{
 "cells": [
  {
   "cell_type": "code",
   "execution_count": null,
   "id": "ZF-771L5eGdv",
   "metadata": {
    "colab": {
     "base_uri": "https://localhost:8080/"
    },
    "id": "ZF-771L5eGdv",
    "outputId": "f7490ba0-39c7-4e98-9c4d-ecc608aee518"
   },
   "outputs": [
    {
     "name": "stdout",
     "output_type": "stream",
     "text": [
      "Requirement already satisfied: catboost in /usr/local/lib/python3.11/dist-packages (1.2.8)\n",
      "Requirement already satisfied: graphviz in /usr/local/lib/python3.11/dist-packages (from catboost) (0.20.3)\n",
      "Requirement already satisfied: matplotlib in /usr/local/lib/python3.11/dist-packages (from catboost) (3.10.0)\n",
      "Requirement already satisfied: numpy<3.0,>=1.16.0 in /usr/local/lib/python3.11/dist-packages (from catboost) (2.0.2)\n",
      "Requirement already satisfied: pandas>=0.24 in /usr/local/lib/python3.11/dist-packages (from catboost) (2.2.2)\n",
      "Requirement already satisfied: scipy in /usr/local/lib/python3.11/dist-packages (from catboost) (1.15.2)\n",
      "Requirement already satisfied: plotly in /usr/local/lib/python3.11/dist-packages (from catboost) (5.24.1)\n",
      "Requirement already satisfied: six in /usr/local/lib/python3.11/dist-packages (from catboost) (1.17.0)\n",
      "Requirement already satisfied: python-dateutil>=2.8.2 in /usr/local/lib/python3.11/dist-packages (from pandas>=0.24->catboost) (2.9.0.post0)\n",
      "Requirement already satisfied: pytz>=2020.1 in /usr/local/lib/python3.11/dist-packages (from pandas>=0.24->catboost) (2025.2)\n",
      "Requirement already satisfied: tzdata>=2022.7 in /usr/local/lib/python3.11/dist-packages (from pandas>=0.24->catboost) (2025.2)\n",
      "Requirement already satisfied: contourpy>=1.0.1 in /usr/local/lib/python3.11/dist-packages (from matplotlib->catboost) (1.3.2)\n",
      "Requirement already satisfied: cycler>=0.10 in /usr/local/lib/python3.11/dist-packages (from matplotlib->catboost) (0.12.1)\n",
      "Requirement already satisfied: fonttools>=4.22.0 in /usr/local/lib/python3.11/dist-packages (from matplotlib->catboost) (4.57.0)\n",
      "Requirement already satisfied: kiwisolver>=1.3.1 in /usr/local/lib/python3.11/dist-packages (from matplotlib->catboost) (1.4.8)\n",
      "Requirement already satisfied: packaging>=20.0 in /usr/local/lib/python3.11/dist-packages (from matplotlib->catboost) (24.2)\n",
      "Requirement already satisfied: pillow>=8 in /usr/local/lib/python3.11/dist-packages (from matplotlib->catboost) (11.2.1)\n",
      "Requirement already satisfied: pyparsing>=2.3.1 in /usr/local/lib/python3.11/dist-packages (from matplotlib->catboost) (3.2.3)\n",
      "Requirement already satisfied: tenacity>=6.2.0 in /usr/local/lib/python3.11/dist-packages (from plotly->catboost) (9.1.2)\n"
     ]
    }
   ],
   "source": [
    "! pip install catboost"
   ]
  },
  {
   "cell_type": "code",
   "execution_count": 1,
   "id": "8507b6da-f006-4725-b9ff-2bf4802fda9a",
   "metadata": {
    "id": "8507b6da-f006-4725-b9ff-2bf4802fda9a"
   },
   "outputs": [],
   "source": [
    "from sklearn.linear_model import (\n",
    "    LinearRegression, Ridge, Lasso, ElasticNet, HuberRegressor, SGDRegressor, PassiveAggressiveRegressor\n",
    ")\n",
    "from sklearn.tree import DecisionTreeRegressor\n",
    "from sklearn.ensemble import (\n",
    "    RandomForestRegressor, GradientBoostingRegressor, AdaBoostRegressor, ExtraTreesRegressor, BaggingRegressor\n",
    ")\n",
    "from sklearn.neighbors import KNeighborsRegressor\n",
    "from sklearn.svm import SVR\n",
    "from xgboost import XGBRegressor\n",
    "from lightgbm import LGBMRegressor\n",
    "from catboost import CatBoostRegressor\n",
    "from sklearn.gaussian_process import GaussianProcessRegressor\n",
    "from sklearn.neural_network import MLPRegressor\n",
    "import joblib\n",
    "from sklearn.model_selection import train_test_split\n",
    "import pandas as pd\n",
    "from sklearn.metrics import mean_squared_error, r2_score, mean_absolute_error\n"
   ]
  },
  {
   "cell_type": "code",
   "execution_count": 2,
   "id": "04835728-b4c4-4ef4-bff8-7d1b07e00d21",
   "metadata": {
    "id": "04835728-b4c4-4ef4-bff8-7d1b07e00d21"
   },
   "outputs": [],
   "source": [
    "unscaled_data = pd.read_csv('../data/processed_data/unscaled_processed_data.csv')\n",
    "X_train_scaled, X_test_scaled, y_train_scaled, y_test_scaled=joblib.load(\"../data/processed_data/sacled_train_test_split.pkl\")"
   ]
  },
  {
   "cell_type": "code",
   "execution_count": 3,
   "id": "55b72647-4456-4546-9e6c-2fd8fee0da0f",
   "metadata": {
    "id": "55b72647-4456-4546-9e6c-2fd8fee0da0f"
   },
   "outputs": [],
   "source": [
    "X_unscaled = unscaled_data.drop(columns='price')\n",
    "y_unscaled = unscaled_data['price']"
   ]
  },
  {
   "cell_type": "code",
   "execution_count": 4,
   "id": "08ace8bb-24d7-4874-99ea-aca0e9b90942",
   "metadata": {
    "id": "08ace8bb-24d7-4874-99ea-aca0e9b90942"
   },
   "outputs": [],
   "source": [
    "X_train_unscaled, X_test_unscaled, y_train_unscaled, y_test_unscaled = train_test_split(X_unscaled, y_unscaled, test_size=0.2, random_state=42)"
   ]
  },
  {
   "cell_type": "markdown",
   "id": "4f5d8d2f-77a9-449e-be35-beb20f94a962",
   "metadata": {
    "id": "4f5d8d2f-77a9-449e-be35-beb20f94a962"
   },
   "source": [
    "# models"
   ]
  },
  {
   "cell_type": "code",
   "execution_count": 30,
   "id": "52611db9-d1f1-4898-b7d4-edf6ce090a34",
   "metadata": {
    "id": "52611db9-d1f1-4898-b7d4-edf6ce090a34"
   },
   "outputs": [],
   "source": [
    "scaled_models = {\n",
    "    \"Linear Regression\": LinearRegression(),\n",
    "    \"Ridge Regression\": Ridge(),\n",
    "    \"Lasso Regression\": Lasso(),\n",
    "    \"ElasticNet Regression\": ElasticNet(),\n",
    "    \"KNN Regressor\": KNeighborsRegressor(),\n",
    "    \"SVR\": SVR()\n",
    "}\n"
   ]
  },
  {
   "cell_type": "code",
   "execution_count": 31,
   "id": "45eb80e2-b304-44d4-b92b-0bb62392c47f",
   "metadata": {
    "id": "45eb80e2-b304-44d4-b92b-0bb62392c47f"
   },
   "outputs": [],
   "source": [
    "unscaled_models = {\n",
    "    \"Decision Tree\": DecisionTreeRegressor(),\n",
    "    \"Random Forest\": RandomForestRegressor(),\n",
    "    \"Gradient Boosting\": GradientBoostingRegressor(),\n",
    "    \"AdaBoost\": AdaBoostRegressor(),\n",
    "    \"Bagging Regressor\": BaggingRegressor(),\n",
    "    \"XGBoost\": XGBRegressor()\n",
    "}\n"
   ]
  },
  {
   "cell_type": "code",
   "execution_count": 32,
   "id": "745d424f-f3a7-4b07-8932-00260697efb9",
   "metadata": {
    "id": "745d424f-f3a7-4b07-8932-00260697efb9"
   },
   "outputs": [],
   "source": [
    "results = []"
   ]
  },
  {
   "cell_type": "code",
   "execution_count": 33,
   "id": "35dd2514-bbcf-46e9-b598-d5694db8b49b",
   "metadata": {
    "id": "35dd2514-bbcf-46e9-b598-d5694db8b49b"
   },
   "outputs": [],
   "source": [
    "for model_name, model in scaled_models.items():\n",
    "    model.fit(X_train_scaled, y_train_scaled)\n",
    "    y_pred = model.predict(X_test_scaled)\n",
    "\n",
    "    rmse = mean_squared_error(y_test_scaled, y_pred)\n",
    "    r2 = r2_score(y_test_scaled, y_pred)\n",
    "    mae = mean_absolute_error(y_test_scaled, y_pred)\n",
    "\n",
    "\n",
    "    results.append({'Model': model_name, 'RMSE': rmse, 'R^2': r2, 'MAE': mae})\n"
   ]
  },
  {
   "cell_type": "code",
   "execution_count": 34,
   "id": "6fbc9746-aac7-4e04-927f-0174ff559722",
   "metadata": {
    "id": "6fbc9746-aac7-4e04-927f-0174ff559722"
   },
   "outputs": [],
   "source": [
    "for model_name, model in unscaled_models.items():\n",
    "    model.fit(X_train_unscaled, y_train_unscaled)\n",
    "    y_pred = model.predict(X_test_unscaled)\n",
    "\n",
    "    rmse = mean_squared_error(y_test_unscaled, y_pred)\n",
    "    r2 = r2_score(y_test_unscaled, y_pred)\n",
    "    mae = mean_absolute_error(y_test_unscaled, y_pred)\n",
    "\n",
    "    results.append({'Model': model_name, 'RMSE': rmse, 'R^2': r2, 'MAE': mae})\n"
   ]
  },
  {
   "cell_type": "code",
   "execution_count": 35,
   "id": "03c55ba2-2113-4906-a2a7-d68e61eba060",
   "metadata": {
    "id": "03c55ba2-2113-4906-a2a7-d68e61eba060"
   },
   "outputs": [],
   "source": [
    "performance_df = pd.DataFrame(results)"
   ]
  },
  {
   "cell_type": "code",
   "execution_count": 36,
   "id": "9295399a-5e02-4e44-9a10-a2e109de5ab3",
   "metadata": {
    "colab": {
     "base_uri": "https://localhost:8080/"
    },
    "id": "9295399a-5e02-4e44-9a10-a2e109de5ab3",
    "outputId": "5fdc2518-38a8-48be-d2dd-7a91c521dda4"
   },
   "outputs": [
    {
     "name": "stdout",
     "output_type": "stream",
     "text": [
      "                    Model          RMSE       R^2         MAE\n",
      "0       Linear Regression  2.037055e-02  0.980573    0.112211\n",
      "1        Ridge Regression  2.037078e-02  0.980573    0.112216\n",
      "2        Lasso Regression  1.048901e+00 -0.000292    0.887064\n",
      "3   ElasticNet Regression  5.142507e-01  0.509581    0.613561\n",
      "4           KNN Regressor  3.502805e-02  0.966595    0.141613\n",
      "5                     SVR  1.259423e-02  0.987989    0.087444\n",
      "6           Decision Tree  6.043915e+05  0.963940  395.609285\n",
      "7           Random Forest  3.177971e+05  0.981039  296.150605\n",
      "8       Gradient Boosting  3.819329e+05  0.977213  346.029614\n",
      "9                AdaBoost  1.319463e+06  0.921277  848.910321\n",
      "10      Bagging Regressor  3.448466e+05  0.979425  310.133779\n",
      "11                XGBoost  3.266887e+05  0.980509  294.112823\n"
     ]
    }
   ],
   "source": [
    "print(performance_df)"
   ]
  },
  {
   "cell_type": "code",
   "execution_count": 37,
   "id": "J4-AazAPid-N",
   "metadata": {
    "id": "J4-AazAPid-N"
   },
   "outputs": [],
   "source": [
    "performance_df.to_csv('performance_df.csv')"
   ]
  },
  {
   "cell_type": "markdown",
   "id": "16c90137-1f69-47d4-8a36-e88f55a8c1f3",
   "metadata": {
    "id": "bEPI8btQinXW"
   },
   "source": [
    "Now we have perform hyperparameter tuning in our best models and finds some best parameter \n",
    "we have train model with its best hyperparameter and determin its performance"
   ]
  },
  {
   "cell_type": "code",
   "execution_count": 15,
   "id": "738cd2bf-b4d0-4a3c-b243-79e21b536a3e",
   "metadata": {},
   "outputs": [],
   "source": [
    "results_after_hp = []"
   ]
  },
  {
   "cell_type": "code",
   "execution_count": 16,
   "id": "f0808987-aea8-49d6-83c7-431f8ea7f4bf",
   "metadata": {},
   "outputs": [],
   "source": [
    "scaled_models_after_hp = {\n",
    "    \"Linear Regression\": LinearRegression(),\n",
    "    \"Ridge Regression\": Ridge(alpha= 0.01)\n",
    "}"
   ]
  },
  {
   "cell_type": "code",
   "execution_count": 17,
   "id": "0761d45e-13d8-4130-999a-685aa70098ad",
   "metadata": {},
   "outputs": [],
   "source": [
    "unscaled_models_after_hp = {\n",
    "    \"Random Forest\": RandomForestRegressor(max_depth=20,min_samples_leaf=1,min_samples_split=5,n_estimators=100),\n",
    "    \"XGBoost\": XGBRegressor(learning_rate=0.1,max_depth=6,n_estimators=100,subsample=1.0)\n",
    "}"
   ]
  },
  {
   "cell_type": "code",
   "execution_count": 18,
   "id": "3ecbf243-cc45-4185-8391-0c5d1b05210b",
   "metadata": {},
   "outputs": [],
   "source": [
    "for model_name, model in scaled_models_after_hp.items():\n",
    "    model.fit(X_train_scaled, y_train_scaled)\n",
    "    y_pred = model.predict(X_test_scaled)\n",
    "\n",
    "    rmse = mean_squared_error(y_test_scaled, y_pred)\n",
    "    r2 = r2_score(y_test_scaled, y_pred)\n",
    "    mae = mean_absolute_error(y_test_scaled, y_pred)\n",
    "\n",
    "\n",
    "    results_after_hp.append({'Model': model_name, 'RMSE': rmse, 'R^2': r2, 'MAE': mae})"
   ]
  },
  {
   "cell_type": "code",
   "execution_count": 19,
   "id": "6212813c-d538-439b-9763-ffbfd804724c",
   "metadata": {},
   "outputs": [],
   "source": [
    "for model_name, model in unscaled_models_after_hp.items():\n",
    "    model.fit(X_train_unscaled, y_train_unscaled)\n",
    "    y_pred = model.predict(X_test_unscaled)\n",
    "\n",
    "    rmse = mean_squared_error(y_test_unscaled, y_pred)\n",
    "    r2 = r2_score(y_test_unscaled, y_pred)\n",
    "    mae = mean_absolute_error(y_test_unscaled, y_pred)\n",
    "\n",
    "    results_after_hp.append({'Model': model_name, 'RMSE': rmse, 'R^2': r2, 'MAE': mae})"
   ]
  },
  {
   "cell_type": "code",
   "execution_count": 20,
   "id": "55236c68-2447-4989-853a-5f7e633f6bc9",
   "metadata": {},
   "outputs": [],
   "source": [
    "performance_df_after_hp = pd.DataFrame(results_after_hp)"
   ]
  },
  {
   "cell_type": "code",
   "execution_count": 21,
   "id": "b8706332-2995-4fec-bdd8-bf93dc433ac2",
   "metadata": {},
   "outputs": [
    {
     "data": {
      "text/html": [
       "<div>\n",
       "<style scoped>\n",
       "    .dataframe tbody tr th:only-of-type {\n",
       "        vertical-align: middle;\n",
       "    }\n",
       "\n",
       "    .dataframe tbody tr th {\n",
       "        vertical-align: top;\n",
       "    }\n",
       "\n",
       "    .dataframe thead th {\n",
       "        text-align: right;\n",
       "    }\n",
       "</style>\n",
       "<table border=\"1\" class=\"dataframe\">\n",
       "  <thead>\n",
       "    <tr style=\"text-align: right;\">\n",
       "      <th></th>\n",
       "      <th>Model</th>\n",
       "      <th>RMSE</th>\n",
       "      <th>R^2</th>\n",
       "      <th>MAE</th>\n",
       "    </tr>\n",
       "  </thead>\n",
       "  <tbody>\n",
       "    <tr>\n",
       "      <th>0</th>\n",
       "      <td>Linear Regression</td>\n",
       "      <td>0.020371</td>\n",
       "      <td>0.980573</td>\n",
       "      <td>0.112211</td>\n",
       "    </tr>\n",
       "    <tr>\n",
       "      <th>1</th>\n",
       "      <td>Ridge Regression</td>\n",
       "      <td>0.020371</td>\n",
       "      <td>0.980573</td>\n",
       "      <td>0.112211</td>\n",
       "    </tr>\n",
       "    <tr>\n",
       "      <th>2</th>\n",
       "      <td>Random Forest</td>\n",
       "      <td>311873.050356</td>\n",
       "      <td>0.981393</td>\n",
       "      <td>293.800071</td>\n",
       "    </tr>\n",
       "    <tr>\n",
       "      <th>3</th>\n",
       "      <td>XGBoost</td>\n",
       "      <td>288817.875000</td>\n",
       "      <td>0.982768</td>\n",
       "      <td>279.686035</td>\n",
       "    </tr>\n",
       "  </tbody>\n",
       "</table>\n",
       "</div>"
      ],
      "text/plain": [
       "               Model           RMSE       R^2         MAE\n",
       "0  Linear Regression       0.020371  0.980573    0.112211\n",
       "1   Ridge Regression       0.020371  0.980573    0.112211\n",
       "2      Random Forest  311873.050356  0.981393  293.800071\n",
       "3            XGBoost  288817.875000  0.982768  279.686035"
      ]
     },
     "execution_count": 21,
     "metadata": {},
     "output_type": "execute_result"
    }
   ],
   "source": [
    "performance_df_after_hp"
   ]
  },
  {
   "cell_type": "code",
   "execution_count": null,
   "id": "1e8c6776-1978-4c97-832c-87eded18dc06",
   "metadata": {},
   "outputs": [],
   "source": []
  }
 ],
 "metadata": {
  "accelerator": "GPU",
  "colab": {
   "gpuType": "T4",
   "provenance": []
  },
  "kernelspec": {
   "display_name": "Python 3 (ipykernel)",
   "language": "python",
   "name": "python3"
  },
  "language_info": {
   "codemirror_mode": {
    "name": "ipython",
    "version": 3
   },
   "file_extension": ".py",
   "mimetype": "text/x-python",
   "name": "python",
   "nbconvert_exporter": "python",
   "pygments_lexer": "ipython3",
   "version": "3.11.7"
  }
 },
 "nbformat": 4,
 "nbformat_minor": 5
}
